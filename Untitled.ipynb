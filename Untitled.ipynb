{
 "cells": [
  {
   "cell_type": "code",
   "execution_count": 40,
   "metadata": {},
   "outputs": [],
   "source": [
    "import pandas as pd\n",
    "import numpy as np\n",
    "import os\n",
    "import glob\n",
    "import json\n",
    "import re\n",
    "import csv"
   ]
  },
  {
   "cell_type": "code",
   "execution_count": 41,
   "metadata": {},
   "outputs": [
    {
     "name": "stdout",
     "output_type": "stream",
     "text": [
      "The current working directory is: \n",
      "--------------------------------\n",
      "/home/tewodros/Desktop/Data-Engineering/Data_Modelling_with_Apache_Cassandra!!\n",
      "\n",
      "The total number of files retrieved are 30\n"
     ]
    }
   ],
   "source": [
    "filePath = os.getcwd()\n",
    "print(f\"The current working directory is: \\n--------------------------------\\n{filePath}!!\")\n",
    "\n",
    "fileList = glob.glob(os.path.join(filePath, \"event_data\", \"**\", \"*\"), recursive = True)\n",
    "print(f\"\\nThe total number of files retrieved are {len(fileList)}\")"
   ]
  },
  {
   "cell_type": "code",
   "execution_count": 86,
   "metadata": {},
   "outputs": [],
   "source": [
    "# combined_file_list = []\n",
    "# for file in fileList[0]:\n",
    "#     with open (file, 'r') as csv_file:\n",
    "#         csv_reader = csv.reader(csv_file)\n",
    "#         a = list(csv_reader)\n",
    "#         next(csv_reader)\n",
    "#         for record in csv.reader:\n",
    "#             combined_file_list.append(record)\n",
    "\n",
    "# with open(\"combined.csv\", 'w') as new_file:\n",
    "#     csv_writer = csv.writer(new_file)\n",
    "#     for record in csv_reader:\n",
    "#         csv_writer.writerow(record)\n",
    "b = []\n",
    "for file in fileList:\n",
    "    with open (file, 'r') as csv_file:\n",
    "        csv_reader = csv.reader(csv_file)\n",
    "        next(csv_reader)\n",
    "        b.extend(list(csv_reader))\n",
    "#     next(csv_reader)"
   ]
  },
  {
   "cell_type": "code",
   "execution_count": 90,
   "metadata": {},
   "outputs": [
    {
     "data": {
      "text/plain": [
       "['',\n",
       " 'Logged In',\n",
       " 'Stefany',\n",
       " 'F',\n",
       " '0',\n",
       " 'White',\n",
       " '',\n",
       " 'free',\n",
       " 'Lubbock, TX',\n",
       " 'GET',\n",
       " 'Home',\n",
       " '1.54071E+12',\n",
       " '82',\n",
       " '',\n",
       " '200',\n",
       " '1.54112E+12',\n",
       " '83']"
      ]
     },
     "execution_count": 90,
     "metadata": {},
     "output_type": "execute_result"
    }
   ],
   "source": [
    "b[1]"
   ]
  },
  {
   "cell_type": "code",
   "execution_count": 71,
   "metadata": {},
   "outputs": [
    {
     "name": "stdout",
     "output_type": "stream",
     "text": [
      "[1, 2, 3, 5, [6, 7, 8]]\n"
     ]
    }
   ],
   "source": [
    "print(a)"
   ]
  },
  {
   "cell_type": "code",
   "execution_count": 85,
   "metadata": {},
   "outputs": [
    {
     "name": "stdout",
     "output_type": "stream",
     "text": [
      "please!\r\n",
      "\n",
      "please\n"
     ]
    }
   ],
   "source": [
    "print(\"please!\\r\\n\")\n",
    "print(\"please\")"
   ]
  },
  {
   "cell_type": "code",
   "execution_count": null,
   "metadata": {},
   "outputs": [],
   "source": []
  }
 ],
 "metadata": {
  "kernelspec": {
   "display_name": "Python 3",
   "language": "python",
   "name": "python3"
  },
  "language_info": {
   "codemirror_mode": {
    "name": "ipython",
    "version": 3
   },
   "file_extension": ".py",
   "mimetype": "text/x-python",
   "name": "python",
   "nbconvert_exporter": "python",
   "pygments_lexer": "ipython3",
   "version": "3.8.5"
  }
 },
 "nbformat": 4,
 "nbformat_minor": 4
}
